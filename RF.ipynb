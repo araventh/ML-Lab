{
 "cells": [
  {
   "cell_type": "code",
   "execution_count": 1,
   "id": "60f7c04e",
   "metadata": {},
   "outputs": [
    {
     "name": "stdout",
     "output_type": "stream",
     "text": [
      "(1000, 20) (1000,)\n"
     ]
    }
   ],
   "source": [
    "from sklearn.datasets import make_classification\n",
    "\n",
    "X, y = make_classification(n_samples=1000, n_features=20, n_informative=15, n_redundant=5, random_state=3)\n",
    "\n",
    "print(X.shape, y.shape)"
   ]
  },
  {
   "cell_type": "code",
   "execution_count": 2,
   "id": "ad20cf01",
   "metadata": {},
   "outputs": [],
   "source": [
    "import pandas as pd\n",
    "import numpy as np\n",
    "from sklearn.ensemble import RandomForestClassifier\n",
    "from sklearn.model_selection import train_test_split\n",
    "\n",
    "data = pd.read_csv('Instruments.csv')\n",
    " \n",
    "data.head()\n",
    "\n",
    "data.iloc[:,1:52]\n",
    "# Create feature and target arrays\n",
    "X = data.iloc[:,1:52]\n",
    "y = data['Actor']\n",
    "# Split into training and test set\n",
    "X_train, X_test, y_train, y_test = train_test_split(\n",
    "             X, y, test_size = 0.2, random_state=42)"
   ]
  },
  {
   "cell_type": "code",
   "execution_count": 3,
   "id": "6dbf0836",
   "metadata": {},
   "outputs": [
    {
     "name": "stdout",
     "output_type": "stream",
     "text": [
      "[[ 2  2  1  3  0  0  0  4  2  1]\n",
      " [ 0  4  0  0  2  0  0  1  2  0]\n",
      " [ 0  1  0  3  0  0  0  1  2  0]\n",
      " [ 2  0  1  4  1  0  0  0  1  0]\n",
      " [ 0  0  1  0  2  1  0  0  0  0]\n",
      " [ 0  1  1  0  0  4  0  0  2  0]\n",
      " [ 0  0  0  0  0  0  0  2  2  0]\n",
      " [ 0  1  0  0  0  0  0 13  0  0]\n",
      " [ 0  0  0  0  0  0  0  0 12  0]\n",
      " [ 0  0  2  1  1  0  0  2  6  3]]\n",
      "\n",
      "\n",
      "              precision    recall  f1-score   support\n",
      "\n",
      "       Ajith       0.50      0.13      0.21        15\n",
      "           D       0.44      0.44      0.44         9\n",
      "       Kamal       0.00      0.00      0.00         7\n",
      "      Rajini       0.36      0.44      0.40         9\n",
      "          SK       0.33      0.50      0.40         4\n",
      "       Simbu       0.80      0.50      0.62         8\n",
      "       Surya       0.00      0.00      0.00         4\n",
      "         VJS       0.57      0.93      0.70        14\n",
      "        Viay       0.41      1.00      0.59        12\n",
      "      Vikram       0.75      0.20      0.32        15\n",
      "\n",
      "    accuracy                           0.45        97\n",
      "   macro avg       0.42      0.42      0.37        97\n",
      "weighted avg       0.48      0.45      0.40        97\n",
      "\n"
     ]
    },
    {
     "name": "stderr",
     "output_type": "stream",
     "text": [
      "C:\\Users\\user\\anaconda3\\lib\\site-packages\\sklearn\\metrics\\_classification.py:1248: UndefinedMetricWarning: Precision and F-score are ill-defined and being set to 0.0 in labels with no predicted samples. Use `zero_division` parameter to control this behavior.\n",
      "  _warn_prf(average, modifier, msg_start, len(result))\n",
      "C:\\Users\\user\\anaconda3\\lib\\site-packages\\sklearn\\metrics\\_classification.py:1248: UndefinedMetricWarning: Precision and F-score are ill-defined and being set to 0.0 in labels with no predicted samples. Use `zero_division` parameter to control this behavior.\n",
      "  _warn_prf(average, modifier, msg_start, len(result))\n",
      "C:\\Users\\user\\anaconda3\\lib\\site-packages\\sklearn\\metrics\\_classification.py:1248: UndefinedMetricWarning: Precision and F-score are ill-defined and being set to 0.0 in labels with no predicted samples. Use `zero_division` parameter to control this behavior.\n",
      "  _warn_prf(average, modifier, msg_start, len(result))\n"
     ]
    }
   ],
   "source": [
    "rf= RandomForestClassifier()\n",
    "rf.fit(X_train,y_train)\n",
    "predictions= rf.predict(X_test)\n",
    "\n",
    "\n",
    "\n",
    "from sklearn.metrics import classification_report, confusion_matrix\n",
    "\n",
    "print(confusion_matrix(y_test,predictions))\n",
    "print('\\n')\n",
    "print(classification_report(y_test,predictions))\n"
   ]
  },
  {
   "cell_type": "code",
   "execution_count": 4,
   "id": "30cfbeab",
   "metadata": {},
   "outputs": [
    {
     "data": {
      "text/plain": [
       "array(['SK'], dtype=object)"
      ]
     },
     "execution_count": 4,
     "metadata": {},
     "output_type": "execute_result"
    }
   ],
   "source": [
    "rf.predict(data.iloc[0:1,1:52])"
   ]
  },
  {
   "cell_type": "code",
   "execution_count": 7,
   "id": "1949e9b2",
   "metadata": {},
   "outputs": [
    {
     "data": {
      "text/plain": [
       "array(['Vikram', 'Vikram', 'SK', 'VJS', 'Vikram'], dtype=object)"
      ]
     },
     "execution_count": 7,
     "metadata": {},
     "output_type": "execute_result"
    }
   ],
   "source": [
    "rf.predict(data.iloc[460:465,1:52])"
   ]
  },
  {
   "cell_type": "code",
   "execution_count": null,
   "id": "b1c9d088",
   "metadata": {},
   "outputs": [],
   "source": []
  }
 ],
 "metadata": {
  "kernelspec": {
   "display_name": "Python 3 (ipykernel)",
   "language": "python",
   "name": "python3"
  },
  "language_info": {
   "codemirror_mode": {
    "name": "ipython",
    "version": 3
   },
   "file_extension": ".py",
   "mimetype": "text/x-python",
   "name": "python",
   "nbconvert_exporter": "python",
   "pygments_lexer": "ipython3",
   "version": "3.9.7"
  }
 },
 "nbformat": 4,
 "nbformat_minor": 5
}
