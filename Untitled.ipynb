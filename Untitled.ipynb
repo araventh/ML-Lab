{
 "cells": [
  {
   "cell_type": "code",
   "execution_count": 12,
   "id": "e3cc6801",
   "metadata": {},
   "outputs": [
    {
     "name": "stderr",
     "output_type": "stream",
     "text": [
      "C:\\Users\\user\\AppData\\Local\\Temp/ipykernel_23284/815142155.py:13: FutureWarning: Pass y=[0. 0. 0. ... 0. 0. 0.] as keyword args. From version 0.10 passing these as positional arguments will result in an error\n",
      "  spectral_centroids = librosa.feature.spectral_centroid(x, sr=sr)[0]\n",
      "C:\\Users\\user\\AppData\\Local\\Temp/ipykernel_23284/815142155.py:15: FutureWarning: Pass y=[0. 0. 0. ... 0. 0. 0.] as keyword args. From version 0.10 passing these as positional arguments will result in an error\n",
      "  spectral_rolloff = librosa.feature.spectral_rolloff(x, sr=sr)[0]\n",
      "C:\\Users\\user\\AppData\\Local\\Temp/ipykernel_23284/815142155.py:21: FutureWarning: Pass y=[0. 0. 0. ... 0. 0. 0.] as keyword args. From version 0.10 passing these as positional arguments will result in an error\n",
      "  chromagram = librosa.feature.chroma_stft(x, sr=sr, hop_length=hop_length)\n",
      "C:\\Users\\user\\AppData\\Local\\Temp/ipykernel_23284/815142155.py:23: FutureWarning: Pass y=[0. 0. 0. ... 0. 0. 0.] as keyword args. From version 0.10 passing these as positional arguments will result in an error\n",
      "  mfccs = librosa.feature.mfcc(x, sr=sr)\n",
      "C:\\Users\\user\\AppData\\Local\\Temp/ipykernel_23284/815142155.py:13: FutureWarning: Pass y=[ 0.0000000e+00  0.0000000e+00  0.0000000e+00 ...  2.2092117e-09\n",
      " -1.3338700e-09  6.8842354e-10] as keyword args. From version 0.10 passing these as positional arguments will result in an error\n",
      "  spectral_centroids = librosa.feature.spectral_centroid(x, sr=sr)[0]\n",
      "C:\\Users\\user\\AppData\\Local\\Temp/ipykernel_23284/815142155.py:15: FutureWarning: Pass y=[ 0.0000000e+00  0.0000000e+00  0.0000000e+00 ...  2.2092117e-09\n",
      " -1.3338700e-09  6.8842354e-10] as keyword args. From version 0.10 passing these as positional arguments will result in an error\n",
      "  spectral_rolloff = librosa.feature.spectral_rolloff(x, sr=sr)[0]\n",
      "C:\\Users\\user\\AppData\\Local\\Temp/ipykernel_23284/815142155.py:21: FutureWarning: Pass y=[ 0.0000000e+00  0.0000000e+00  0.0000000e+00 ...  2.2092117e-09\n",
      " -1.3338700e-09  6.8842354e-10] as keyword args. From version 0.10 passing these as positional arguments will result in an error\n",
      "  chromagram = librosa.feature.chroma_stft(x, sr=sr, hop_length=hop_length)\n",
      "C:\\Users\\user\\AppData\\Local\\Temp/ipykernel_23284/815142155.py:23: FutureWarning: Pass y=[ 0.0000000e+00  0.0000000e+00  0.0000000e+00 ...  2.2092117e-09\n",
      " -1.3338700e-09  6.8842354e-10] as keyword args. From version 0.10 passing these as positional arguments will result in an error\n",
      "  mfccs = librosa.feature.mfcc(x, sr=sr)\n",
      "C:\\Users\\user\\AppData\\Local\\Temp/ipykernel_23284/815142155.py:13: FutureWarning: Pass y=[ 0.0000000e+00  0.0000000e+00  0.0000000e+00 ... -1.4980543e-11\n",
      "  9.4415040e-12 -5.9034327e-12] as keyword args. From version 0.10 passing these as positional arguments will result in an error\n",
      "  spectral_centroids = librosa.feature.spectral_centroid(x, sr=sr)[0]\n",
      "C:\\Users\\user\\AppData\\Local\\Temp/ipykernel_23284/815142155.py:15: FutureWarning: Pass y=[ 0.0000000e+00  0.0000000e+00  0.0000000e+00 ... -1.4980543e-11\n",
      "  9.4415040e-12 -5.9034327e-12] as keyword args. From version 0.10 passing these as positional arguments will result in an error\n",
      "  spectral_rolloff = librosa.feature.spectral_rolloff(x, sr=sr)[0]\n",
      "C:\\Users\\user\\AppData\\Local\\Temp/ipykernel_23284/815142155.py:21: FutureWarning: Pass y=[ 0.0000000e+00  0.0000000e+00  0.0000000e+00 ... -1.4980543e-11\n",
      "  9.4415040e-12 -5.9034327e-12] as keyword args. From version 0.10 passing these as positional arguments will result in an error\n",
      "  chromagram = librosa.feature.chroma_stft(x, sr=sr, hop_length=hop_length)\n",
      "C:\\Users\\user\\AppData\\Local\\Temp/ipykernel_23284/815142155.py:23: FutureWarning: Pass y=[ 0.0000000e+00  0.0000000e+00  0.0000000e+00 ... -1.4980543e-11\n",
      "  9.4415040e-12 -5.9034327e-12] as keyword args. From version 0.10 passing these as positional arguments will result in an error\n",
      "  mfccs = librosa.feature.mfcc(x, sr=sr)\n",
      "C:\\Users\\user\\AppData\\Local\\Temp/ipykernel_23284/815142155.py:13: FutureWarning: Pass y=[0.         0.         0.         ... 0.00015482 0.00017563 0.00019462] as keyword args. From version 0.10 passing these as positional arguments will result in an error\n",
      "  spectral_centroids = librosa.feature.spectral_centroid(x, sr=sr)[0]\n",
      "C:\\Users\\user\\AppData\\Local\\Temp/ipykernel_23284/815142155.py:15: FutureWarning: Pass y=[0.         0.         0.         ... 0.00015482 0.00017563 0.00019462] as keyword args. From version 0.10 passing these as positional arguments will result in an error\n",
      "  spectral_rolloff = librosa.feature.spectral_rolloff(x, sr=sr)[0]\n",
      "C:\\Users\\user\\AppData\\Local\\Temp/ipykernel_23284/815142155.py:21: FutureWarning: Pass y=[0.         0.         0.         ... 0.00015482 0.00017563 0.00019462] as keyword args. From version 0.10 passing these as positional arguments will result in an error\n",
      "  chromagram = librosa.feature.chroma_stft(x, sr=sr, hop_length=hop_length)\n",
      "C:\\Users\\user\\AppData\\Local\\Temp/ipykernel_23284/815142155.py:23: FutureWarning: Pass y=[0.         0.         0.         ... 0.00015482 0.00017563 0.00019462] as keyword args. From version 0.10 passing these as positional arguments will result in an error\n",
      "  mfccs = librosa.feature.mfcc(x, sr=sr)\n",
      "C:\\Users\\user\\AppData\\Local\\Temp/ipykernel_23284/815142155.py:13: FutureWarning: Pass y=[ 0.0000000e+00  0.0000000e+00  0.0000000e+00 ...  1.3650916e-05\n",
      "  1.5904490e-06 -1.5524141e-06] as keyword args. From version 0.10 passing these as positional arguments will result in an error\n",
      "  spectral_centroids = librosa.feature.spectral_centroid(x, sr=sr)[0]\n",
      "C:\\Users\\user\\AppData\\Local\\Temp/ipykernel_23284/815142155.py:15: FutureWarning: Pass y=[ 0.0000000e+00  0.0000000e+00  0.0000000e+00 ...  1.3650916e-05\n",
      "  1.5904490e-06 -1.5524141e-06] as keyword args. From version 0.10 passing these as positional arguments will result in an error\n",
      "  spectral_rolloff = librosa.feature.spectral_rolloff(x, sr=sr)[0]\n",
      "C:\\Users\\user\\AppData\\Local\\Temp/ipykernel_23284/815142155.py:21: FutureWarning: Pass y=[ 0.0000000e+00  0.0000000e+00  0.0000000e+00 ...  1.3650916e-05\n",
      "  1.5904490e-06 -1.5524141e-06] as keyword args. From version 0.10 passing these as positional arguments will result in an error\n",
      "  chromagram = librosa.feature.chroma_stft(x, sr=sr, hop_length=hop_length)\n",
      "C:\\Users\\user\\AppData\\Local\\Temp/ipykernel_23284/815142155.py:23: FutureWarning: Pass y=[ 0.0000000e+00  0.0000000e+00  0.0000000e+00 ...  1.3650916e-05\n",
      "  1.5904490e-06 -1.5524141e-06] as keyword args. From version 0.10 passing these as positional arguments will result in an error\n",
      "  mfccs = librosa.feature.mfcc(x, sr=sr)\n",
      "C:\\Users\\user\\AppData\\Local\\Temp/ipykernel_23284/815142155.py:13: FutureWarning: Pass y=[0.0000000e+00 0.0000000e+00 0.0000000e+00 ... 5.6706260e-05 4.9244809e-05\n",
      " 1.4149767e-04] as keyword args. From version 0.10 passing these as positional arguments will result in an error\n",
      "  spectral_centroids = librosa.feature.spectral_centroid(x, sr=sr)[0]\n",
      "C:\\Users\\user\\AppData\\Local\\Temp/ipykernel_23284/815142155.py:15: FutureWarning: Pass y=[0.0000000e+00 0.0000000e+00 0.0000000e+00 ... 5.6706260e-05 4.9244809e-05\n",
      " 1.4149767e-04] as keyword args. From version 0.10 passing these as positional arguments will result in an error\n",
      "  spectral_rolloff = librosa.feature.spectral_rolloff(x, sr=sr)[0]\n",
      "C:\\Users\\user\\AppData\\Local\\Temp/ipykernel_23284/815142155.py:21: FutureWarning: Pass y=[0.0000000e+00 0.0000000e+00 0.0000000e+00 ... 5.6706260e-05 4.9244809e-05\n",
      " 1.4149767e-04] as keyword args. From version 0.10 passing these as positional arguments will result in an error\n",
      "  chromagram = librosa.feature.chroma_stft(x, sr=sr, hop_length=hop_length)\n",
      "C:\\Users\\user\\AppData\\Local\\Temp/ipykernel_23284/815142155.py:23: FutureWarning: Pass y=[0.0000000e+00 0.0000000e+00 0.0000000e+00 ... 5.6706260e-05 4.9244809e-05\n",
      " 1.4149767e-04] as keyword args. From version 0.10 passing these as positional arguments will result in an error\n",
      "  mfccs = librosa.feature.mfcc(x, sr=sr)\n",
      "C:\\Users\\user\\AppData\\Local\\Temp/ipykernel_23284/815142155.py:13: FutureWarning: Pass y=[ 0.0000000e+00  0.0000000e+00  0.0000000e+00 ...  1.7120642e-10\n",
      " -9.7965004e-11  4.9697420e-11] as keyword args. From version 0.10 passing these as positional arguments will result in an error\n",
      "  spectral_centroids = librosa.feature.spectral_centroid(x, sr=sr)[0]\n"
     ]
    },
    {
     "name": "stderr",
     "output_type": "stream",
     "text": [
      "C:\\Users\\user\\AppData\\Local\\Temp/ipykernel_23284/815142155.py:15: FutureWarning: Pass y=[ 0.0000000e+00  0.0000000e+00  0.0000000e+00 ...  1.7120642e-10\n",
      " -9.7965004e-11  4.9697420e-11] as keyword args. From version 0.10 passing these as positional arguments will result in an error\n",
      "  spectral_rolloff = librosa.feature.spectral_rolloff(x, sr=sr)[0]\n",
      "C:\\Users\\user\\AppData\\Local\\Temp/ipykernel_23284/815142155.py:21: FutureWarning: Pass y=[ 0.0000000e+00  0.0000000e+00  0.0000000e+00 ...  1.7120642e-10\n",
      " -9.7965004e-11  4.9697420e-11] as keyword args. From version 0.10 passing these as positional arguments will result in an error\n",
      "  chromagram = librosa.feature.chroma_stft(x, sr=sr, hop_length=hop_length)\n",
      "C:\\Users\\user\\AppData\\Local\\Temp/ipykernel_23284/815142155.py:23: FutureWarning: Pass y=[ 0.0000000e+00  0.0000000e+00  0.0000000e+00 ...  1.7120642e-10\n",
      " -9.7965004e-11  4.9697420e-11] as keyword args. From version 0.10 passing these as positional arguments will result in an error\n",
      "  mfccs = librosa.feature.mfcc(x, sr=sr)\n",
      "C:\\Users\\user\\AppData\\Local\\Temp/ipykernel_23284/815142155.py:13: FutureWarning: Pass y=[ 0.0000000e+00  0.0000000e+00  0.0000000e+00 ... -1.1639729e-05\n",
      "  2.0248852e-05 -3.1033353e-06] as keyword args. From version 0.10 passing these as positional arguments will result in an error\n",
      "  spectral_centroids = librosa.feature.spectral_centroid(x, sr=sr)[0]\n",
      "C:\\Users\\user\\AppData\\Local\\Temp/ipykernel_23284/815142155.py:15: FutureWarning: Pass y=[ 0.0000000e+00  0.0000000e+00  0.0000000e+00 ... -1.1639729e-05\n",
      "  2.0248852e-05 -3.1033353e-06] as keyword args. From version 0.10 passing these as positional arguments will result in an error\n",
      "  spectral_rolloff = librosa.feature.spectral_rolloff(x, sr=sr)[0]\n",
      "C:\\Users\\user\\AppData\\Local\\Temp/ipykernel_23284/815142155.py:21: FutureWarning: Pass y=[ 0.0000000e+00  0.0000000e+00  0.0000000e+00 ... -1.1639729e-05\n",
      "  2.0248852e-05 -3.1033353e-06] as keyword args. From version 0.10 passing these as positional arguments will result in an error\n",
      "  chromagram = librosa.feature.chroma_stft(x, sr=sr, hop_length=hop_length)\n",
      "C:\\Users\\user\\AppData\\Local\\Temp/ipykernel_23284/815142155.py:23: FutureWarning: Pass y=[ 0.0000000e+00  0.0000000e+00  0.0000000e+00 ... -1.1639729e-05\n",
      "  2.0248852e-05 -3.1033353e-06] as keyword args. From version 0.10 passing these as positional arguments will result in an error\n",
      "  mfccs = librosa.feature.mfcc(x, sr=sr)\n",
      "C:\\Users\\user\\AppData\\Local\\Temp/ipykernel_23284/815142155.py:13: FutureWarning: Pass y=[ 0.000000e+00  0.000000e+00  0.000000e+00 ...  6.673822e-08 -6.384204e-08\n",
      "  5.900789e-08] as keyword args. From version 0.10 passing these as positional arguments will result in an error\n",
      "  spectral_centroids = librosa.feature.spectral_centroid(x, sr=sr)[0]\n",
      "C:\\Users\\user\\AppData\\Local\\Temp/ipykernel_23284/815142155.py:15: FutureWarning: Pass y=[ 0.000000e+00  0.000000e+00  0.000000e+00 ...  6.673822e-08 -6.384204e-08\n",
      "  5.900789e-08] as keyword args. From version 0.10 passing these as positional arguments will result in an error\n",
      "  spectral_rolloff = librosa.feature.spectral_rolloff(x, sr=sr)[0]\n",
      "C:\\Users\\user\\AppData\\Local\\Temp/ipykernel_23284/815142155.py:21: FutureWarning: Pass y=[ 0.000000e+00  0.000000e+00  0.000000e+00 ...  6.673822e-08 -6.384204e-08\n",
      "  5.900789e-08] as keyword args. From version 0.10 passing these as positional arguments will result in an error\n",
      "  chromagram = librosa.feature.chroma_stft(x, sr=sr, hop_length=hop_length)\n",
      "C:\\Users\\user\\AppData\\Local\\Temp/ipykernel_23284/815142155.py:23: FutureWarning: Pass y=[ 0.000000e+00  0.000000e+00  0.000000e+00 ...  6.673822e-08 -6.384204e-08\n",
      "  5.900789e-08] as keyword args. From version 0.10 passing these as positional arguments will result in an error\n",
      "  mfccs = librosa.feature.mfcc(x, sr=sr)\n",
      "C:\\Users\\user\\AppData\\Local\\Temp/ipykernel_23284/815142155.py:13: FutureWarning: Pass y=[ 0.0000000e+00  0.0000000e+00  0.0000000e+00 ...  1.3614127e-05\n",
      " -1.8556727e-06  7.5926641e-07] as keyword args. From version 0.10 passing these as positional arguments will result in an error\n",
      "  spectral_centroids = librosa.feature.spectral_centroid(x, sr=sr)[0]\n",
      "C:\\Users\\user\\AppData\\Local\\Temp/ipykernel_23284/815142155.py:15: FutureWarning: Pass y=[ 0.0000000e+00  0.0000000e+00  0.0000000e+00 ...  1.3614127e-05\n",
      " -1.8556727e-06  7.5926641e-07] as keyword args. From version 0.10 passing these as positional arguments will result in an error\n",
      "  spectral_rolloff = librosa.feature.spectral_rolloff(x, sr=sr)[0]\n",
      "C:\\Users\\user\\AppData\\Local\\Temp/ipykernel_23284/815142155.py:21: FutureWarning: Pass y=[ 0.0000000e+00  0.0000000e+00  0.0000000e+00 ...  1.3614127e-05\n",
      " -1.8556727e-06  7.5926641e-07] as keyword args. From version 0.10 passing these as positional arguments will result in an error\n",
      "  chromagram = librosa.feature.chroma_stft(x, sr=sr, hop_length=hop_length)\n",
      "C:\\Users\\user\\AppData\\Local\\Temp/ipykernel_23284/815142155.py:23: FutureWarning: Pass y=[ 0.0000000e+00  0.0000000e+00  0.0000000e+00 ...  1.3614127e-05\n",
      " -1.8556727e-06  7.5926641e-07] as keyword args. From version 0.10 passing these as positional arguments will result in an error\n",
      "  mfccs = librosa.feature.mfcc(x, sr=sr)\n",
      "C:\\Users\\user\\AppData\\Local\\Temp/ipykernel_23284/815142155.py:13: FutureWarning: Pass y=[ 0.0000000e+00  0.0000000e+00  0.0000000e+00 ...  1.2772784e-05\n",
      " -9.6593885e-06 -6.2397494e-06] as keyword args. From version 0.10 passing these as positional arguments will result in an error\n",
      "  spectral_centroids = librosa.feature.spectral_centroid(x, sr=sr)[0]\n",
      "C:\\Users\\user\\AppData\\Local\\Temp/ipykernel_23284/815142155.py:15: FutureWarning: Pass y=[ 0.0000000e+00  0.0000000e+00  0.0000000e+00 ...  1.2772784e-05\n",
      " -9.6593885e-06 -6.2397494e-06] as keyword args. From version 0.10 passing these as positional arguments will result in an error\n",
      "  spectral_rolloff = librosa.feature.spectral_rolloff(x, sr=sr)[0]\n",
      "C:\\Users\\user\\AppData\\Local\\Temp/ipykernel_23284/815142155.py:21: FutureWarning: Pass y=[ 0.0000000e+00  0.0000000e+00  0.0000000e+00 ...  1.2772784e-05\n",
      " -9.6593885e-06 -6.2397494e-06] as keyword args. From version 0.10 passing these as positional arguments will result in an error\n",
      "  chromagram = librosa.feature.chroma_stft(x, sr=sr, hop_length=hop_length)\n",
      "C:\\Users\\user\\AppData\\Local\\Temp/ipykernel_23284/815142155.py:23: FutureWarning: Pass y=[ 0.0000000e+00  0.0000000e+00  0.0000000e+00 ...  1.2772784e-05\n",
      " -9.6593885e-06 -6.2397494e-06] as keyword args. From version 0.10 passing these as positional arguments will result in an error\n",
      "  mfccs = librosa.feature.mfcc(x, sr=sr)\n",
      "C:\\Users\\user\\AppData\\Local\\Temp/ipykernel_23284/815142155.py:13: FutureWarning: Pass y=[0.0000000e+00 0.0000000e+00 0.0000000e+00 ... 4.1457355e-05 5.7465295e-05\n",
      " 3.5079298e-05] as keyword args. From version 0.10 passing these as positional arguments will result in an error\n",
      "  spectral_centroids = librosa.feature.spectral_centroid(x, sr=sr)[0]\n",
      "C:\\Users\\user\\AppData\\Local\\Temp/ipykernel_23284/815142155.py:15: FutureWarning: Pass y=[0.0000000e+00 0.0000000e+00 0.0000000e+00 ... 4.1457355e-05 5.7465295e-05\n",
      " 3.5079298e-05] as keyword args. From version 0.10 passing these as positional arguments will result in an error\n",
      "  spectral_rolloff = librosa.feature.spectral_rolloff(x, sr=sr)[0]\n",
      "C:\\Users\\user\\AppData\\Local\\Temp/ipykernel_23284/815142155.py:21: FutureWarning: Pass y=[0.0000000e+00 0.0000000e+00 0.0000000e+00 ... 4.1457355e-05 5.7465295e-05\n",
      " 3.5079298e-05] as keyword args. From version 0.10 passing these as positional arguments will result in an error\n",
      "  chromagram = librosa.feature.chroma_stft(x, sr=sr, hop_length=hop_length)\n",
      "C:\\Users\\user\\AppData\\Local\\Temp/ipykernel_23284/815142155.py:23: FutureWarning: Pass y=[0.0000000e+00 0.0000000e+00 0.0000000e+00 ... 4.1457355e-05 5.7465295e-05\n",
      " 3.5079298e-05] as keyword args. From version 0.10 passing these as positional arguments will result in an error\n",
      "  mfccs = librosa.feature.mfcc(x, sr=sr)\n",
      "C:\\Users\\user\\AppData\\Local\\Temp/ipykernel_23284/815142155.py:13: FutureWarning: Pass y=[ 0.          0.          0.         ... -0.00270669 -0.00225464\n",
      " -0.00264907] as keyword args. From version 0.10 passing these as positional arguments will result in an error\n",
      "  spectral_centroids = librosa.feature.spectral_centroid(x, sr=sr)[0]\n",
      "C:\\Users\\user\\AppData\\Local\\Temp/ipykernel_23284/815142155.py:15: FutureWarning: Pass y=[ 0.          0.          0.         ... -0.00270669 -0.00225464\n",
      " -0.00264907] as keyword args. From version 0.10 passing these as positional arguments will result in an error\n",
      "  spectral_rolloff = librosa.feature.spectral_rolloff(x, sr=sr)[0]\n"
     ]
    },
    {
     "name": "stderr",
     "output_type": "stream",
     "text": [
      "C:\\Users\\user\\AppData\\Local\\Temp/ipykernel_23284/815142155.py:21: FutureWarning: Pass y=[ 0.          0.          0.         ... -0.00270669 -0.00225464\n",
      " -0.00264907] as keyword args. From version 0.10 passing these as positional arguments will result in an error\n",
      "  chromagram = librosa.feature.chroma_stft(x, sr=sr, hop_length=hop_length)\n",
      "C:\\Users\\user\\AppData\\Local\\Temp/ipykernel_23284/815142155.py:23: FutureWarning: Pass y=[ 0.          0.          0.         ... -0.00270669 -0.00225464\n",
      " -0.00264907] as keyword args. From version 0.10 passing these as positional arguments will result in an error\n",
      "  mfccs = librosa.feature.mfcc(x, sr=sr)\n",
      "C:\\Users\\user\\AppData\\Local\\Temp/ipykernel_23284/815142155.py:13: FutureWarning: Pass y=[0.000000e+00 0.000000e+00 0.000000e+00 ... 9.096994e-05 5.360558e-05\n",
      " 7.507461e-05] as keyword args. From version 0.10 passing these as positional arguments will result in an error\n",
      "  spectral_centroids = librosa.feature.spectral_centroid(x, sr=sr)[0]\n",
      "C:\\Users\\user\\AppData\\Local\\Temp/ipykernel_23284/815142155.py:15: FutureWarning: Pass y=[0.000000e+00 0.000000e+00 0.000000e+00 ... 9.096994e-05 5.360558e-05\n",
      " 7.507461e-05] as keyword args. From version 0.10 passing these as positional arguments will result in an error\n",
      "  spectral_rolloff = librosa.feature.spectral_rolloff(x, sr=sr)[0]\n",
      "C:\\Users\\user\\AppData\\Local\\Temp/ipykernel_23284/815142155.py:21: FutureWarning: Pass y=[0.000000e+00 0.000000e+00 0.000000e+00 ... 9.096994e-05 5.360558e-05\n",
      " 7.507461e-05] as keyword args. From version 0.10 passing these as positional arguments will result in an error\n",
      "  chromagram = librosa.feature.chroma_stft(x, sr=sr, hop_length=hop_length)\n",
      "C:\\Users\\user\\AppData\\Local\\Temp/ipykernel_23284/815142155.py:23: FutureWarning: Pass y=[0.000000e+00 0.000000e+00 0.000000e+00 ... 9.096994e-05 5.360558e-05\n",
      " 7.507461e-05] as keyword args. From version 0.10 passing these as positional arguments will result in an error\n",
      "  mfccs = librosa.feature.mfcc(x, sr=sr)\n",
      "C:\\Users\\user\\AppData\\Local\\Temp/ipykernel_23284/815142155.py:13: FutureWarning: Pass y=[0.         0.         0.         ... 0.00124665 0.00135075 0.00169057] as keyword args. From version 0.10 passing these as positional arguments will result in an error\n",
      "  spectral_centroids = librosa.feature.spectral_centroid(x, sr=sr)[0]\n",
      "C:\\Users\\user\\AppData\\Local\\Temp/ipykernel_23284/815142155.py:15: FutureWarning: Pass y=[0.         0.         0.         ... 0.00124665 0.00135075 0.00169057] as keyword args. From version 0.10 passing these as positional arguments will result in an error\n",
      "  spectral_rolloff = librosa.feature.spectral_rolloff(x, sr=sr)[0]\n",
      "C:\\Users\\user\\AppData\\Local\\Temp/ipykernel_23284/815142155.py:21: FutureWarning: Pass y=[0.         0.         0.         ... 0.00124665 0.00135075 0.00169057] as keyword args. From version 0.10 passing these as positional arguments will result in an error\n",
      "  chromagram = librosa.feature.chroma_stft(x, sr=sr, hop_length=hop_length)\n",
      "C:\\Users\\user\\AppData\\Local\\Temp/ipykernel_23284/815142155.py:23: FutureWarning: Pass y=[0.         0.         0.         ... 0.00124665 0.00135075 0.00169057] as keyword args. From version 0.10 passing these as positional arguments will result in an error\n",
      "  mfccs = librosa.feature.mfcc(x, sr=sr)\n",
      "C:\\Users\\user\\AppData\\Local\\Temp/ipykernel_23284/815142155.py:13: FutureWarning: Pass y=[ 0.          0.          0.         ... -0.00013073 -0.00027253\n",
      " -0.00031963] as keyword args. From version 0.10 passing these as positional arguments will result in an error\n",
      "  spectral_centroids = librosa.feature.spectral_centroid(x, sr=sr)[0]\n",
      "C:\\Users\\user\\AppData\\Local\\Temp/ipykernel_23284/815142155.py:15: FutureWarning: Pass y=[ 0.          0.          0.         ... -0.00013073 -0.00027253\n",
      " -0.00031963] as keyword args. From version 0.10 passing these as positional arguments will result in an error\n",
      "  spectral_rolloff = librosa.feature.spectral_rolloff(x, sr=sr)[0]\n",
      "C:\\Users\\user\\AppData\\Local\\Temp/ipykernel_23284/815142155.py:21: FutureWarning: Pass y=[ 0.          0.          0.         ... -0.00013073 -0.00027253\n",
      " -0.00031963] as keyword args. From version 0.10 passing these as positional arguments will result in an error\n",
      "  chromagram = librosa.feature.chroma_stft(x, sr=sr, hop_length=hop_length)\n",
      "C:\\Users\\user\\AppData\\Local\\Temp/ipykernel_23284/815142155.py:23: FutureWarning: Pass y=[ 0.          0.          0.         ... -0.00013073 -0.00027253\n",
      " -0.00031963] as keyword args. From version 0.10 passing these as positional arguments will result in an error\n",
      "  mfccs = librosa.feature.mfcc(x, sr=sr)\n",
      "C:\\Users\\user\\AppData\\Local\\Temp/ipykernel_23284/815142155.py:13: FutureWarning: Pass y=[0.         0.         0.         ... 0.00116293 0.00103499 0.00110588] as keyword args. From version 0.10 passing these as positional arguments will result in an error\n",
      "  spectral_centroids = librosa.feature.spectral_centroid(x, sr=sr)[0]\n",
      "C:\\Users\\user\\AppData\\Local\\Temp/ipykernel_23284/815142155.py:15: FutureWarning: Pass y=[0.         0.         0.         ... 0.00116293 0.00103499 0.00110588] as keyword args. From version 0.10 passing these as positional arguments will result in an error\n",
      "  spectral_rolloff = librosa.feature.spectral_rolloff(x, sr=sr)[0]\n",
      "C:\\Users\\user\\AppData\\Local\\Temp/ipykernel_23284/815142155.py:21: FutureWarning: Pass y=[0.         0.         0.         ... 0.00116293 0.00103499 0.00110588] as keyword args. From version 0.10 passing these as positional arguments will result in an error\n",
      "  chromagram = librosa.feature.chroma_stft(x, sr=sr, hop_length=hop_length)\n",
      "C:\\Users\\user\\AppData\\Local\\Temp/ipykernel_23284/815142155.py:23: FutureWarning: Pass y=[0.         0.         0.         ... 0.00116293 0.00103499 0.00110588] as keyword args. From version 0.10 passing these as positional arguments will result in an error\n",
      "  mfccs = librosa.feature.mfcc(x, sr=sr)\n",
      "C:\\Users\\user\\AppData\\Local\\Temp/ipykernel_23284/815142155.py:13: FutureWarning: Pass y=[ 0.0000000e+00  0.0000000e+00  0.0000000e+00 ... -5.0854702e-05\n",
      " -5.0826053e-05 -5.1502160e-05] as keyword args. From version 0.10 passing these as positional arguments will result in an error\n",
      "  spectral_centroids = librosa.feature.spectral_centroid(x, sr=sr)[0]\n",
      "C:\\Users\\user\\AppData\\Local\\Temp/ipykernel_23284/815142155.py:15: FutureWarning: Pass y=[ 0.0000000e+00  0.0000000e+00  0.0000000e+00 ... -5.0854702e-05\n",
      " -5.0826053e-05 -5.1502160e-05] as keyword args. From version 0.10 passing these as positional arguments will result in an error\n",
      "  spectral_rolloff = librosa.feature.spectral_rolloff(x, sr=sr)[0]\n",
      "C:\\Users\\user\\AppData\\Local\\Temp/ipykernel_23284/815142155.py:21: FutureWarning: Pass y=[ 0.0000000e+00  0.0000000e+00  0.0000000e+00 ... -5.0854702e-05\n",
      " -5.0826053e-05 -5.1502160e-05] as keyword args. From version 0.10 passing these as positional arguments will result in an error\n",
      "  chromagram = librosa.feature.chroma_stft(x, sr=sr, hop_length=hop_length)\n",
      "C:\\Users\\user\\AppData\\Local\\Temp/ipykernel_23284/815142155.py:23: FutureWarning: Pass y=[ 0.0000000e+00  0.0000000e+00  0.0000000e+00 ... -5.0854702e-05\n",
      " -5.0826053e-05 -5.1502160e-05] as keyword args. From version 0.10 passing these as positional arguments will result in an error\n",
      "  mfccs = librosa.feature.mfcc(x, sr=sr)\n"
     ]
    }
   ],
   "source": [
    "import librosa\n",
    "import numpy\n",
    "import pandas\n",
    "import csv\n",
    "filename = \"Instruments.csv\"\n",
    "\n",
    "for i in range(48):\n",
    "    ins = 'Vikram'#change for each instrument\n",
    "    fn = 'vikram ({0}).wav'.format(i+1) #change for each instrument\n",
    "    audio_path = 'Vikram/vikram ({0}).wav'.format(i+1) #change for each instrument\n",
    "    x , sr = librosa.load(audio_path)\n",
    "    #spectral centroid\n",
    "    spectral_centroids = librosa.feature.spectral_centroid(x, sr=sr)[0]\n",
    "    #spectral rolloff\n",
    "    spectral_rolloff = librosa.feature.spectral_rolloff(x, sr=sr)[0]\n",
    "    #rms\n",
    "    S, phase = librosa.magphase(librosa.stft(x))\n",
    "    rms = librosa.feature.rms(S=S)\n",
    "    #chroma\n",
    "    hop_length = 512\n",
    "    chromagram = librosa.feature.chroma_stft(x, sr=sr, hop_length=hop_length)\n",
    "    #mfcc\n",
    "    mfccs = librosa.feature.mfcc(x, sr=sr)\n",
    "    mfccs_df = pandas.DataFrame(mfccs)\n",
    "    #zero-crossing rate\n",
    "    zcr = librosa.feature.zero_crossing_rate(x)\n",
    "    #tempo\n",
    "    oenv = librosa.onset.onset_strength(y=x, sr=sr)\n",
    "    tempo = librosa.beat.tempo(onset_envelope=oenv, sr=sr)[0]\n",
    "    with open(filename, 'a',newline='') as csvfile: \n",
    "        rows = [fn, numpy.average(spectral_centroids), numpy.var(spectral_centroids),\n",
    "            numpy.average(spectral_rolloff),numpy.var(spectral_rolloff), numpy.average(rms), numpy.var(rms), \n",
    "            numpy.average(chromagram), numpy.var(chromagram), numpy.average(zcr), numpy.var(zcr), tempo, mfccs_df.mean(axis=1)[0],\n",
    "               mfccs_df.var(axis=1)[0], mfccs_df.mean(axis=1)[1], mfccs_df.var(axis=1)[1], mfccs_df.mean(axis=1)[2], \n",
    "                mfccs_df.var(axis=1)[2], mfccs_df.mean(axis=1)[3], mfccs_df.var(axis=1)[3], mfccs_df.mean(axis=1)[4],\n",
    "               mfccs_df.var(axis=1)[4], mfccs_df.mean(axis=1)[5], mfccs_df.var(axis=1)[5], mfccs_df.mean(axis=1)[6], \n",
    "                mfccs_df.var(axis=1)[6], mfccs_df.mean(axis=1)[7], mfccs_df.var(axis=1)[7], mfccs_df.mean(axis=1)[8],\n",
    "                mfccs_df.var(axis=1)[8], mfccs_df.mean(axis=1)[9], mfccs_df.var(axis=1)[9], mfccs_df.mean(axis=1)[10], \n",
    "                mfccs_df.var(axis=1)[10], mfccs_df.mean(axis=1)[11], mfccs_df.var(axis=1)[11], mfccs_df.mean(axis=1)[12], \n",
    "                mfccs_df.var(axis=1)[12], mfccs_df.mean(axis=1)[13], mfccs_df.var(axis=1)[13], mfccs_df.mean(axis=1)[14], \n",
    "                mfccs_df.var(axis=1)[14], mfccs_df.mean(axis=1)[15],mfccs_df.var(axis=1)[15],  mfccs_df.mean(axis=1)[16], \n",
    "                mfccs_df.var(axis=1)[16], mfccs_df.mean(axis=1)[17], mfccs_df.var(axis=1)[17], \n",
    "                mfccs_df.mean(axis=1)[18], mfccs_df.var(axis=1)[18], mfccs_df.mean(axis=1)[19], mfccs_df.var(axis=1)[19],\n",
    "               ins] \n",
    "        csvwriter = csv.writer(csvfile) \n",
    "        csvwriter.writerow(rows)"
   ]
  },
  {
   "cell_type": "code",
   "execution_count": 2,
   "id": "27d0e726",
   "metadata": {},
   "outputs": [
    {
     "name": "stdout",
     "output_type": "stream",
     "text": [
      "Collecting librosaNote: you may need to restart the kernel to use updated packages.\n",
      "\n",
      "  Downloading librosa-0.9.1-py3-none-any.whl (213 kB)\n",
      "Requirement already satisfied: decorator>=4.0.10 in c:\\users\\user\\anaconda3\\lib\\site-packages (from librosa) (5.1.0)\n",
      "Collecting resampy>=0.2.2\n",
      "  Downloading resampy-0.2.2.tar.gz (323 kB)\n",
      "Requirement already satisfied: numba>=0.45.1 in c:\\users\\user\\anaconda3\\lib\\site-packages (from librosa) (0.54.1)\n",
      "Requirement already satisfied: packaging>=20.0 in c:\\users\\user\\anaconda3\\lib\\site-packages (from librosa) (21.0)\n",
      "Collecting soundfile>=0.10.2\n",
      "  Downloading SoundFile-0.10.3.post1-py2.py3.cp26.cp27.cp32.cp33.cp34.cp35.cp36.pp27.pp32.pp33-none-win_amd64.whl (689 kB)\n",
      "Requirement already satisfied: joblib>=0.14 in c:\\users\\user\\anaconda3\\lib\\site-packages (from librosa) (1.1.0)\n",
      "Collecting pooch>=1.0\n",
      "  Downloading pooch-1.6.0-py3-none-any.whl (56 kB)\n",
      "Collecting audioread>=2.1.5\n",
      "  Downloading audioread-2.1.9.tar.gz (377 kB)\n",
      "Requirement already satisfied: numpy>=1.17.0 in c:\\users\\user\\anaconda3\\lib\\site-packages (from librosa) (1.20.3)\n",
      "Requirement already satisfied: scipy>=1.2.0 in c:\\users\\user\\anaconda3\\lib\\site-packages (from librosa) (1.7.1)\n",
      "Requirement already satisfied: scikit-learn>=0.19.1 in c:\\users\\user\\anaconda3\\lib\\site-packages (from librosa) (0.24.2)\n",
      "Requirement already satisfied: llvmlite<0.38,>=0.37.0rc1 in c:\\users\\user\\anaconda3\\lib\\site-packages (from numba>=0.45.1->librosa) (0.37.0)\n",
      "Requirement already satisfied: setuptools in c:\\users\\user\\anaconda3\\lib\\site-packages (from numba>=0.45.1->librosa) (58.0.4)\n",
      "Requirement already satisfied: pyparsing>=2.0.2 in c:\\users\\user\\anaconda3\\lib\\site-packages (from packaging>=20.0->librosa) (3.0.4)\n",
      "Requirement already satisfied: requests>=2.19.0 in c:\\users\\user\\anaconda3\\lib\\site-packages (from pooch>=1.0->librosa) (2.26.0)\n",
      "Requirement already satisfied: appdirs>=1.3.0 in c:\\users\\user\\anaconda3\\lib\\site-packages (from pooch>=1.0->librosa) (1.4.4)\n",
      "Requirement already satisfied: idna<4,>=2.5 in c:\\users\\user\\anaconda3\\lib\\site-packages (from requests>=2.19.0->pooch>=1.0->librosa) (3.2)\n",
      "Requirement already satisfied: charset-normalizer~=2.0.0 in c:\\users\\user\\anaconda3\\lib\\site-packages (from requests>=2.19.0->pooch>=1.0->librosa) (2.0.4)\n",
      "Requirement already satisfied: urllib3<1.27,>=1.21.1 in c:\\users\\user\\anaconda3\\lib\\site-packages (from requests>=2.19.0->pooch>=1.0->librosa) (1.26.7)\n",
      "Requirement already satisfied: certifi>=2017.4.17 in c:\\users\\user\\anaconda3\\lib\\site-packages (from requests>=2.19.0->pooch>=1.0->librosa) (2021.10.8)\n",
      "Requirement already satisfied: six>=1.3 in c:\\users\\user\\anaconda3\\lib\\site-packages (from resampy>=0.2.2->librosa) (1.16.0)\n",
      "Requirement already satisfied: threadpoolctl>=2.0.0 in c:\\users\\user\\anaconda3\\lib\\site-packages (from scikit-learn>=0.19.1->librosa) (2.2.0)\n",
      "Requirement already satisfied: cffi>=1.0 in c:\\users\\user\\anaconda3\\lib\\site-packages (from soundfile>=0.10.2->librosa) (1.14.6)\n",
      "Requirement already satisfied: pycparser in c:\\users\\user\\anaconda3\\lib\\site-packages (from cffi>=1.0->soundfile>=0.10.2->librosa) (2.20)\n",
      "Building wheels for collected packages: audioread, resampy\n",
      "  Building wheel for audioread (setup.py): started\n",
      "  Building wheel for audioread (setup.py): finished with status 'done'\n",
      "  Created wheel for audioread: filename=audioread-2.1.9-py3-none-any.whl size=23154 sha256=c10d839ace5b9c5cab7beb3f2e6e2691907ce8dbe82df6c3086fdb37f68d7dd2\n",
      "  Stored in directory: c:\\users\\user\\appdata\\local\\pip\\cache\\wheels\\a2\\a3\\bd\\ec1568ce7515115a11ab686d509ad302124c782af065de47ee\n",
      "  Building wheel for resampy (setup.py): started\n",
      "  Building wheel for resampy (setup.py): finished with status 'done'\n",
      "  Created wheel for resampy: filename=resampy-0.2.2-py3-none-any.whl size=320731 sha256=3d3c33a210bbefedb8ee7c1da0fcff0dbd1f08661ef875532d256b0dbe389a51\n",
      "  Stored in directory: c:\\users\\user\\appdata\\local\\pip\\cache\\wheels\\86\\2c\\7d\\46a32a246b0e5939cea2c5ec1492164073e0c5d16d666ae2cd\n",
      "Successfully built audioread resampy\n",
      "Installing collected packages: soundfile, resampy, pooch, audioread, librosa\n",
      "Successfully installed audioread-2.1.9 librosa-0.9.1 pooch-1.6.0 resampy-0.2.2 soundfile-0.10.3.post1\n"
     ]
    }
   ],
   "source": [
    "pip install librosa"
   ]
  },
  {
   "cell_type": "code",
   "execution_count": 3,
   "id": "4226a474",
   "metadata": {},
   "outputs": [
    {
     "name": "stdout",
     "output_type": "stream",
     "text": [
      "Requirement already satisfied: numpy in c:\\users\\user\\anaconda3\\lib\\site-packages (1.20.3)\n",
      "Note: you may need to restart the kernel to use updated packages.\n"
     ]
    }
   ],
   "source": [
    "pip install numpy"
   ]
  },
  {
   "cell_type": "code",
   "execution_count": 4,
   "id": "a4051381",
   "metadata": {},
   "outputs": [
    {
     "name": "stdout",
     "output_type": "stream",
     "text": [
      "Requirement already satisfied: pandas in c:\\users\\user\\anaconda3\\lib\\site-packages (1.3.4)\n",
      "Requirement already satisfied: numpy>=1.17.3 in c:\\users\\user\\anaconda3\\lib\\site-packages (from pandas) (1.20.3)\n",
      "Requirement already satisfied: python-dateutil>=2.7.3 in c:\\users\\user\\anaconda3\\lib\\site-packages (from pandas) (2.8.2)\n",
      "Requirement already satisfied: pytz>=2017.3 in c:\\users\\user\\anaconda3\\lib\\site-packages (from pandas) (2021.3)\n",
      "Requirement already satisfied: six>=1.5 in c:\\users\\user\\anaconda3\\lib\\site-packages (from python-dateutil>=2.7.3->pandas) (1.16.0)\n",
      "Note: you may need to restart the kernel to use updated packages.\n"
     ]
    }
   ],
   "source": [
    "pip install pandas"
   ]
  },
  {
   "cell_type": "code",
   "execution_count": 5,
   "id": "0d1dd341",
   "metadata": {},
   "outputs": [],
   "source": [
    "import pandas as pd"
   ]
  },
  {
   "cell_type": "code",
   "execution_count": 7,
   "id": "93914370",
   "metadata": {},
   "outputs": [
    {
     "ename": "NameError",
     "evalue": "name 'ffmpeg' is not defined",
     "output_type": "error",
     "traceback": [
      "\u001b[1;31m---------------------------------------------------------------------------\u001b[0m",
      "\u001b[1;31mNameError\u001b[0m                                 Traceback (most recent call last)",
      "\u001b[1;32m~\\AppData\\Local\\Temp/ipykernel_22540/2084903474.py\u001b[0m in \u001b[0;36m<module>\u001b[1;34m\u001b[0m\n\u001b[1;32m----> 1\u001b[1;33m \u001b[0mffmpeg\u001b[0m\u001b[1;33m\u001b[0m\u001b[1;33m\u001b[0m\u001b[0m\n\u001b[0m",
      "\u001b[1;31mNameError\u001b[0m: name 'ffmpeg' is not defined"
     ]
    }
   ],
   "source": [
    "ffmpeg"
   ]
  },
  {
   "cell_type": "code",
   "execution_count": 14,
   "id": "eaa8895d",
   "metadata": {},
   "outputs": [
    {
     "name": "stdout",
     "output_type": "stream",
     "text": [
      "Note: you may need to restart the kernel to use updated packages.\n"
     ]
    },
    {
     "name": "stderr",
     "output_type": "stream",
     "text": [
      "ERROR: Could not find a version that satisfies the requirement csv (from versions: none)\n",
      "ERROR: No matching distribution found for csv\n"
     ]
    }
   ],
   "source": [
    "pip install csv"
   ]
  },
  {
   "cell_type": "code",
   "execution_count": 15,
   "id": "25d7a9ac",
   "metadata": {},
   "outputs": [],
   "source": [
    "import csv"
   ]
  },
  {
   "cell_type": "code",
   "execution_count": null,
   "id": "34094f8d",
   "metadata": {},
   "outputs": [],
   "source": []
  }
 ],
 "metadata": {
  "kernelspec": {
   "display_name": "Python 3 (ipykernel)",
   "language": "python",
   "name": "python3"
  },
  "language_info": {
   "codemirror_mode": {
    "name": "ipython",
    "version": 3
   },
   "file_extension": ".py",
   "mimetype": "text/x-python",
   "name": "python",
   "nbconvert_exporter": "python",
   "pygments_lexer": "ipython3",
   "version": "3.9.7"
  }
 },
 "nbformat": 4,
 "nbformat_minor": 5
}
